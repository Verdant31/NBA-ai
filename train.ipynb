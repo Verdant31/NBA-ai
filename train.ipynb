{
 "cells": [
  {
   "cell_type": "code",
   "execution_count": null,
   "metadata": {},
   "outputs": [],
   "source": [
    "from ultralytics import YOLO\n",
    "\n",
    "model = YOLO('yolo11s.pt')"
   ]
  },
  {
   "cell_type": "code",
   "execution_count": null,
   "metadata": {},
   "outputs": [],
   "source": [
    "import os\n",
    "\n",
    "os.environ['KMP_DUPLICATE_LIB_OK']='True'"
   ]
  },
  {
   "cell_type": "code",
   "execution_count": null,
   "metadata": {},
   "outputs": [],
   "source": [
    "results = model.train(data='config.yaml', epochs=20, imgsz=640)"
   ]
  },
  {
   "cell_type": "code",
   "execution_count": null,
   "metadata": {},
   "outputs": [],
   "source": [
    "from ultralytics import YOLO\n",
    "\n",
    "# Load a model\n",
    "model = YOLO(\"yolo11n-pose.yaml\").load(\"yolo11n-pose.pt\")  # build from YAML and transfer weights\n",
    "\n",
    "# Train the model\n",
    "results = model.train(data=\"coco8-pose.yaml\", epochs=100, imgsz=640)"
   ]
  },
  {
   "attachments": {
    "image.png": {
     "image/png": "[encoded data removed]"
    }
   },
   "cell_type": "markdown",
   "metadata": {},
   "source": [
    "![image.png](attachment:image.png)"
   ]
  },
  {
   "cell_type": "code",
   "execution_count": null,
   "metadata": {},
   "outputs": [],
   "source": [
    "# Load a model\n",
    "import cv2\n",
    "import matplotlib.pyplot as plt\n",
    "from ultralytics import YOLO\n",
    "model = YOLO(\"yolo11n-pose.pt\")  # load an official model\n",
    "\n",
    "frame = cv2.imread(\"./1490_original.jpg\")\n",
    "results = model(\"./1490_original.jpg\")  # predict on an image\n",
    "# Predict with the model\n",
    "# Access the results\n",
    "widest_person = None\n",
    "max_width = 0\n",
    "\n",
    "for result in results:\n",
    "    # boxes = result.boxes  # Boxes object for bounding box outputs\n",
    "    # masks = result.masks  # Masks object for segmentation masks outputs\n",
    "    # keypoints = result.keypoints  # Keypoints object for pose outputs\n",
    "    # probs = result.probs  # Probs object for classification outputs\n",
    "    # obb = result.obb  # Oriented boxes object for OBB outputs\n",
    "    # # get only torso keypoints\n",
    "\n",
    "    kp = result.keypoints.xy[0].cpu().numpy()\n",
    "    result.show()\n",
    "    \n",
    "    left_shoulder = int(kp[5][0]), int(kp[5][1])\n",
    "    right_shoulder = int(kp[6][0]), int(kp[6][1])\n",
    "    \n",
    "    left_elbow = int(kp[7][0]), int(kp[7][1])\n",
    "    right_elbow = int(kp[8][0]), int(kp[8][1])\n",
    "    \n",
    "    right_hip = int(kp[11][0]), int(kp[11][1])\n",
    "    \n",
    "    # Add some additional width to make sure that contains the whole jersey number\n",
    "    # and decrease the height to centralize more the number\n",
    "    left_shoulder = (left_shoulder[0] - 5, left_shoulder[1] + 5)\n",
    "    right_shoulder = (right_shoulder[0] + 5, right_shoulder[1] + 5)\n",
    "    \n",
    "    if(left_elbow[0] - right_elbow[0] < 10 and left_shoulder[0] - right_shoulder[0] < 10):\n",
    "        x_min = 20\n",
    "        x_max = frame.shape[0] - 20\n",
    "        y_min = min(left_shoulder[1], right_shoulder[1])\n",
    "    elif((left_elbow[0] - right_elbow[0] < left_shoulder[0] - right_shoulder[0]) or (left_elbow[0] == 0 or right_elbow[0] == 0)):\n",
    "        x_min = min(left_shoulder[0], right_shoulder[0])\n",
    "        x_max = max(left_shoulder[0], right_shoulder[0])\n",
    "        y_min = min(left_shoulder[1], right_shoulder[1])\n",
    "    else:\n",
    "        x_min = min(left_elbow[0], right_elbow[0])\n",
    "        x_max = max(left_elbow[0], right_elbow[0])\n",
    "        y_min = min(left_shoulder[1], right_shoulder[1]) \n",
    " \n",
    "    y_max = right_hip[1]  \n",
    "\n",
    "\n",
    "    cropped_frame = frame[y_min:y_max, x_min:x_max]\n",
    "    plt.imshow(cropped_frame)    \n",
    "    plt.show()\n",
    "    cv2.imwrite(\"cropped.jpg\", cropped_frame)"
   ]
  }
 ],
 "metadata": {
  "kernelspec": {
   "display_name": "basket-env",
   "language": "python",
   "name": "python3"
  },
  "language_info": {
   "codemirror_mode": {
    "name": "ipython",
    "version": 3
   },
   "file_extension": ".py",
   "mimetype": "text/x-python",
   "name": "python",
   "nbconvert_exporter": "python",
   "pygments_lexer": "ipython3",
   "version": "3.12.7"
  }
 },
 "nbformat": 4,
 "nbformat_minor": 2
}
